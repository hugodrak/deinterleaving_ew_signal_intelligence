{
 "cells": [
  {
   "cell_type": "code",
   "execution_count": null,
   "metadata": {
    "vscode": {
     "languageId": "plaintext"
    }
   },
   "outputs": [],
   "source": [
    "import pandas as pd\n",
    "import numpy as np\n",
    "from src.utils import load_pulses, plot_deinterleaved_tracks\n",
    "from src.deinterleave import simple_time_based_deinterleave\n",
    "\n",
    "# Load data\n",
    "df = load_pulses(\"../data/sample_signals.csv\")\n",
    "times = df[\"time\"].values\n",
    "amps = df[\"amplitude\"].values\n",
    "\n",
    "# Deinterleave with naive approach\n",
    "track_assignments = simple_time_based_deinterleave(times, threshold=0.02)\n",
    "df[\"track_id\"] = track_assignments\n",
    "\n",
    "# Plot\n",
    "plot_deinterleaved_tracks(track_assignments, times, amps)\n",
    "df.head()\n"
   ]
  }
 ],
 "metadata": {
  "language_info": {
   "name": "python"
  }
 },
 "nbformat": 4,
 "nbformat_minor": 2
}
